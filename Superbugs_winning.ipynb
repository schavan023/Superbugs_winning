import pandas as pd

# Load Excel file
df_dd = pd.read_excel('/content/DataDictionary.xlsx')

# Preview
df_dd.head()

# Load the Excel file
df_id = pd.read_excel('/content/IsolateData.xlsx')

# Preview the first few rows
df_id.head()

df_id.info()
df_id.shape
df_id.columns
df_id_clean = df_id.copy()
df_id_clean.columns = df_id_clean.columns.str.strip().str.lower().str.replace(' ', '_')

# 1. Filter for AST-approved Salmonella isolates with AMP results
df_amp = df_id_clean[
    (df_id_clean['ast_approved'].str.lower() == 'yes') &
    (df_id_clean['genus'].str.lower() == 'salmonella') &
    (df_id_clean['amp_concl'].notna())
]

# 2. Create a binary outcome column
df_amp['amp_resistant'] = df_amp['amp_concl'].apply(lambda x: 1 if x == 'R' else 0)

# 3. Preview your new target variable
df_amp['amp_resistant'].value_counts()
